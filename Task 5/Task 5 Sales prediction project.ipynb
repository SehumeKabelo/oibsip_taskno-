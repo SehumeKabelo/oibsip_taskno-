{
 "cells": [
  {
   "cell_type": "markdown",
   "id": "183066f0",
   "metadata": {},
   "source": [
    "# Data Science Task 5: Sales prediction using python\n",
    "\n",
    "## Problem statement:\n",
    "Sales prediction means predicting how much of a product people will buy based on factors\n",
    "such as the amount you spend to advertise your product, the segment of people you\n",
    "advertise for, or the platform you are advertising on about your product.\n",
    "\n",
    "Typically, a product and service-based business always need their Data Scientist to predict\n",
    "their future sales with every step they take to manipulate the cost of advertising their\n",
    "product. So let’s start the task of sales prediction with machine learning using Python.\n",
    "\n",
    "\n"
   ]
  },
  {
   "cell_type": "markdown",
   "id": "4ed0bdba",
   "metadata": {},
   "source": [
    "# Loadind the dataset and EDA\n",
    "\n"
   ]
  },
  {
   "cell_type": "code",
   "execution_count": 1,
   "id": "c368e7e6",
   "metadata": {},
   "outputs": [],
   "source": [
    "import pandas as pd\n",
    "import matplotlib.pyplot as plt\n",
    "import seaborn as sns\n",
    "%matplotlib inline"
   ]
  },
  {
   "cell_type": "code",
   "execution_count": 2,
   "id": "d458d09d",
   "metadata": {},
   "outputs": [],
   "source": [
    "file = r\"C:\\Users\\Kabelo\\Documents\\Minds\\Oasis Infobyte\\Oasis Infobyte Projects\\Task 5\\Advertising.csv\"\n",
    "sales_data = pd.read_csv(file)"
   ]
  },
  {
   "cell_type": "markdown",
   "id": "2990d73b",
   "metadata": {},
   "source": [
    "## EDA: Exploratory Data Analysis\n",
    "**EDA is required to:\n",
    "- comprehend the data\n",
    "- Clean the data\n",
    "- analyze the realtionships between variables "
   ]
  },
  {
   "cell_type": "markdown",
   "id": "30c40070",
   "metadata": {},
   "source": [
    "**UNDERSTANDING THE DATA:**"
   ]
  },
  {
   "cell_type": "code",
   "execution_count": 3,
   "id": "393d4790",
   "metadata": {},
   "outputs": [
    {
     "name": "stdout",
     "output_type": "stream",
     "text": [
      "   Unnamed: 0     TV  Radio  Newspaper  Sales\n",
      "0           1  230.1   37.8       69.2   22.1\n",
      "1           2   44.5   39.3       45.1   10.4\n",
      "2           3   17.2   45.9       69.3    9.3\n",
      "3           4  151.5   41.3       58.5   18.5\n",
      "4           5  180.8   10.8       58.4   12.9\n"
     ]
    }
   ],
   "source": [
    "# Checking the first 5 rows\n",
    "print(sales_data.head())"
   ]
  },
  {
   "cell_type": "code",
   "execution_count": 4,
   "id": "93043971",
   "metadata": {},
   "outputs": [
    {
     "name": "stdout",
     "output_type": "stream",
     "text": [
      "     Unnamed: 0     TV  Radio  Newspaper  Sales\n",
      "195         196   38.2    3.7       13.8    7.6\n",
      "196         197   94.2    4.9        8.1    9.7\n",
      "197         198  177.0    9.3        6.4   12.8\n",
      "198         199  283.6   42.0       66.2   25.5\n",
      "199         200  232.1    8.6        8.7   13.4\n"
     ]
    }
   ],
   "source": [
    "# Checking the last 5 rows\n",
    "print(sales_data.tail())"
   ]
  },
  {
   "cell_type": "code",
   "execution_count": 5,
   "id": "ec40f7e0",
   "metadata": {},
   "outputs": [
    {
     "name": "stdout",
     "output_type": "stream",
     "text": [
      "(200, 5)\n"
     ]
    }
   ],
   "source": [
    "# Checking the total number of rows and columns\n",
    "print(sales_data.shape)"
   ]
  },
  {
   "cell_type": "code",
   "execution_count": 6,
   "id": "63b66f21",
   "metadata": {},
   "outputs": [
    {
     "name": "stdout",
     "output_type": "stream",
     "text": [
      "<class 'pandas.core.frame.DataFrame'>\n",
      "RangeIndex: 200 entries, 0 to 199\n",
      "Data columns (total 5 columns):\n",
      " #   Column      Non-Null Count  Dtype  \n",
      "---  ------      --------------  -----  \n",
      " 0   Unnamed: 0  200 non-null    int64  \n",
      " 1   TV          200 non-null    float64\n",
      " 2   Radio       200 non-null    float64\n",
      " 3   Newspaper   200 non-null    float64\n",
      " 4   Sales       200 non-null    float64\n",
      "dtypes: float64(4), int64(1)\n",
      "memory usage: 7.9 KB\n",
      "None\n"
     ]
    }
   ],
   "source": [
    "# Have a concise summary of the dataset, which helps determing missing values\n",
    "print(sales_data.info())"
   ]
  },
  {
   "cell_type": "code",
   "execution_count": 7,
   "id": "1512743d",
   "metadata": {},
   "outputs": [
    {
     "name": "stdout",
     "output_type": "stream",
     "text": [
      "Unnamed: 0    0\n",
      "TV            0\n",
      "Radio         0\n",
      "Newspaper     0\n",
      "Sales         0\n",
      "dtype: int64\n"
     ]
    }
   ],
   "source": [
    "# Verify that there are no missing values\n",
    "print(sales_data.isnull().sum())"
   ]
  },
  {
   "cell_type": "code",
   "execution_count": 8,
   "id": "9376558c",
   "metadata": {},
   "outputs": [],
   "source": [
    "# Removing the redundant column \n",
    "sales_data.drop(\"Unnamed: 0\", axis = 1, inplace =True)\n"
   ]
  },
  {
   "cell_type": "code",
   "execution_count": 9,
   "id": "39bfbde3",
   "metadata": {},
   "outputs": [
    {
     "name": "stdout",
     "output_type": "stream",
     "text": [
      "Index(['TV', 'Radio', 'Newspaper', 'Sales'], dtype='object')\n"
     ]
    }
   ],
   "source": [
    "# Verify that the \"Unnamed: 0\" column has been removed\n",
    "print(sales_data.columns)"
   ]
  },
  {
   "cell_type": "code",
   "execution_count": 10,
   "id": "e827a42f",
   "metadata": {},
   "outputs": [
    {
     "name": "stdout",
     "output_type": "stream",
     "text": [
      "           count      mean        std  min     25%     50%      75%    max\n",
      "TV         200.0  147.0425  85.854236  0.7  74.375  149.75  218.825  296.4\n",
      "Radio      200.0   23.2640  14.846809  0.0   9.975   22.90   36.525   49.6\n",
      "Newspaper  200.0   30.5540  21.778621  0.3  12.750   25.75   45.100  114.0\n",
      "Sales      200.0   14.0225   5.217457  1.6  10.375   12.90   17.400   27.0\n"
     ]
    }
   ],
   "source": [
    "# displaying basic stats of variables \n",
    "print(sales_data.describe().T)"
   ]
  },
  {
   "cell_type": "markdown",
   "id": "9c2b1807",
   "metadata": {},
   "source": [
    "**VISUALIZING DATA:**"
   ]
  },
  {
   "cell_type": "code",
   "execution_count": 11,
   "id": "f7332139",
   "metadata": {},
   "outputs": [
    {
     "data": {
      "image/png": "[encoded data removed]",
      "text/plain": [
       "<Figure size 750x250 with 3 Axes>"
      ]
     },
     "metadata": {},
     "output_type": "display_data"
    }
   ],
   "source": [
    "sns.pairplot(sales_data, x_vars=[\"TV\", \"Radio\", \"Newspaper\",], y_vars=\"Sales\")\n",
    "plt.show()"
   ]
  },
  {
   "cell_type": "code",
   "execution_count": 12,
   "id": "b5c68521",
   "metadata": {},
   "outputs": [
    {
     "data": {
      "image/png": "[encoded data removed]",
      "text/plain": [
       "<Figure size 640x480 with 2 Axes>"
      ]
     },
     "metadata": {},
     "output_type": "display_data"
    }
   ],
   "source": [
    "# heat maps to visualize correcations\n",
    "correlations = sales_data.corr()\n",
    "sns.heatmap(correlations, cmap=\"RdBu\", vmin=0.05, vmax=1, annot=True)\n",
    "plt.show()\n"
   ]
  },
  {
   "cell_type": "markdown",
   "id": "966d799c",
   "metadata": {},
   "source": [
    "**Note: From the pairplot we can see that there TV and radio gives positive upward trends with sales. while the newspaper produce a cluser meaning  no distinct trend. To clearly see the relationship, the hitmap is plotted which verify the insights displayed in the pairplot.**"
   ]
  },
  {
   "cell_type": "markdown",
   "id": "6604be8b",
   "metadata": {},
   "source": [
    "# ML Model Training \n",
    "\n",
    "**IMPORTING REQUIRED MODULES:**"
   ]
  },
  {
   "cell_type": "code",
   "execution_count": 13,
   "id": "0f1e0d8b",
   "metadata": {},
   "outputs": [],
   "source": [
    "# Improting modules from scikitleran libarry\n",
    "from sklearn.model_selection import train_test_split\n",
    "from sklearn.preprocessing import StandardScaler\n",
    "from sklearn.linear_model import LinearRegression\n",
    "from sklearn.ensemble import GradientBoostingRegressor\n",
    "from sklearn.ensemble import RandomForestRegressor\n",
    "from sklearn import metrics"
   ]
  },
  {
   "cell_type": "markdown",
   "id": "a7f28e6b",
   "metadata": {},
   "source": [
    "**Defining X & Y variables and split the data:**"
   ]
  },
  {
   "cell_type": "code",
   "execution_count": 14,
   "id": "8bb353e8",
   "metadata": {},
   "outputs": [],
   "source": [
    "# Defining the x and y variables\n",
    "X = sales_data.drop([\"Sales\"], axis=1)\n",
    "y = sales_data[\"Sales\"]\n",
    "# Split the data into train and test data\n",
    "X_train, X_test, y_train, y_test = train_test_split(X, y, test_size =0.2, random_state=20)"
   ]
  },
  {
   "cell_type": "markdown",
   "id": "204fcd48",
   "metadata": {},
   "source": [
    "**Scale the data:**"
   ]
  },
  {
   "cell_type": "code",
   "execution_count": 15,
   "id": "327dd030",
   "metadata": {},
   "outputs": [],
   "source": [
    "# Scale the data\n",
    "scaler = StandardScaler()\n",
    "X_train = scaler.fit_transform(X_train)\n",
    "X_test = scaler.transform(X_test)"
   ]
  },
  {
   "cell_type": "markdown",
   "id": "c758fecd",
   "metadata": {},
   "source": [
    "**Train the models:**"
   ]
  },
  {
   "cell_type": "code",
   "execution_count": 16,
   "id": "664238d3",
   "metadata": {},
   "outputs": [
    {
     "data": {
      "text/html": [
       "<style>#sk-container-id-1 {color: black;background-color: white;}#sk-container-id-1 pre{padding: 0;}#sk-container-id-1 div.sk-toggleable {background-color: white;}#sk-container-id-1 label.sk-toggleable__label {cursor: pointer;display: block;width: 100%;margin-bottom: 0;padding: 0.3em;box-sizing: border-box;text-align: center;}#sk-container-id-1 label.sk-toggleable__label-arrow:before {content: \"▸\";float: left;margin-right: 0.25em;color: #696969;}#sk-container-id-1 label.sk-toggleable__label-arrow:hover:before {color: black;}#sk-container-id-1 div.sk-estimator:hover label.sk-toggleable__label-arrow:before {color: black;}#sk-container-id-1 div.sk-toggleable__content {max-height: 0;max-width: 0;overflow: hidden;text-align: left;background-color: #f0f8ff;}#sk-container-id-1 div.sk-toggleable__content pre {margin: 0.2em;color: black;border-radius: 0.25em;background-color: #f0f8ff;}#sk-container-id-1 input.sk-toggleable__control:checked~div.sk-toggleable__content {max-height: 200px;max-width: 100%;overflow: auto;}#sk-container-id-1 input.sk-toggleable__control:checked~label.sk-toggleable__label-arrow:before {content: \"▾\";}#sk-container-id-1 div.sk-estimator input.sk-toggleable__control:checked~label.sk-toggleable__label {background-color: #d4ebff;}#sk-container-id-1 div.sk-label input.sk-toggleable__control:checked~label.sk-toggleable__label {background-color: #d4ebff;}#sk-container-id-1 input.sk-hidden--visually {border: 0;clip: rect(1px 1px 1px 1px);clip: rect(1px, 1px, 1px, 1px);height: 1px;margin: -1px;overflow: hidden;padding: 0;position: absolute;width: 1px;}#sk-container-id-1 div.sk-estimator {font-family: monospace;background-color: #f0f8ff;border: 1px dotted black;border-radius: 0.25em;box-sizing: border-box;margin-bottom: 0.5em;}#sk-container-id-1 div.sk-estimator:hover {background-color: #d4ebff;}#sk-container-id-1 div.sk-parallel-item::after {content: \"\";width: 100%;border-bottom: 1px solid gray;flex-grow: 1;}#sk-container-id-1 div.sk-label:hover label.sk-toggleable__label {background-color: #d4ebff;}#sk-container-id-1 div.sk-serial::before {content: \"\";position: absolute;border-left: 1px solid gray;box-sizing: border-box;top: 0;bottom: 0;left: 50%;z-index: 0;}#sk-container-id-1 div.sk-serial {display: flex;flex-direction: column;align-items: center;background-color: white;padding-right: 0.2em;padding-left: 0.2em;position: relative;}#sk-container-id-1 div.sk-item {position: relative;z-index: 1;}#sk-container-id-1 div.sk-parallel {display: flex;align-items: stretch;justify-content: center;background-color: white;position: relative;}#sk-container-id-1 div.sk-item::before, #sk-container-id-1 div.sk-parallel-item::before {content: \"\";position: absolute;border-left: 1px solid gray;box-sizing: border-box;top: 0;bottom: 0;left: 50%;z-index: -1;}#sk-container-id-1 div.sk-parallel-item {display: flex;flex-direction: column;z-index: 1;position: relative;background-color: white;}#sk-container-id-1 div.sk-parallel-item:first-child::after {align-self: flex-end;width: 50%;}#sk-container-id-1 div.sk-parallel-item:last-child::after {align-self: flex-start;width: 50%;}#sk-container-id-1 div.sk-parallel-item:only-child::after {width: 0;}#sk-container-id-1 div.sk-dashed-wrapped {border: 1px dashed gray;margin: 0 0.4em 0.5em 0.4em;box-sizing: border-box;padding-bottom: 0.4em;background-color: white;}#sk-container-id-1 div.sk-label label {font-family: monospace;font-weight: bold;display: inline-block;line-height: 1.2em;}#sk-container-id-1 div.sk-label-container {text-align: center;}#sk-container-id-1 div.sk-container {/* jupyter's `normalize.less` sets `[hidden] { display: none; }` but bootstrap.min.css set `[hidden] { display: none !important; }` so we also need the `!important` here to be able to override the default hidden behavior on the sphinx rendered scikit-learn.org. See: https://github.com/scikit-learn/scikit-learn/issues/21755 */display: inline-block !important;position: relative;}#sk-container-id-1 div.sk-text-repr-fallback {display: none;}</style><div id=\"sk-container-id-1\" class=\"sk-top-container\"><div class=\"sk-text-repr-fallback\"><pre>RandomForestRegressor()</pre><b>In a Jupyter environment, please rerun this cell to show the HTML representation or trust the notebook. <br />On GitHub, the HTML representation is unable to render, please try loading this page with nbviewer.org.</b></div><div class=\"sk-container\" hidden><div class=\"sk-item\"><div class=\"sk-estimator sk-toggleable\"><input class=\"sk-toggleable__control sk-hidden--visually\" id=\"sk-estimator-id-1\" type=\"checkbox\" checked><label for=\"sk-estimator-id-1\" class=\"sk-toggleable__label sk-toggleable__label-arrow\">RandomForestRegressor</label><div class=\"sk-toggleable__content\"><pre>RandomForestRegressor()</pre></div></div></div></div></div>"
      ],
      "text/plain": [
       "RandomForestRegressor()"
      ]
     },
     "execution_count": 16,
     "metadata": {},
     "output_type": "execute_result"
    }
   ],
   "source": [
    "# Training Liner Regression Model\n",
    "linear_reg = LinearRegression()\n",
    "linear_reg.fit(X_train, y_train)\n",
    "\n",
    "# Training Gradient Booting Regressor Model\n",
    "gb_reg = GradientBoostingRegressor()\n",
    "gb_reg.fit(X_train, y_train)\n",
    "\n",
    "# Taring Random Fostest Regressor Model\n",
    "rf_reg = RandomForestRegressor()\n",
    "rf_reg.fit(X_train, y_train)\n"
   ]
  },
  {
   "cell_type": "markdown",
   "id": "3d661253",
   "metadata": {},
   "source": [
    "**Predict the y values with trained models:**"
   ]
  },
  {
   "cell_type": "code",
   "execution_count": 17,
   "id": "10e6e8ba",
   "metadata": {},
   "outputs": [],
   "source": [
    "y_pred_lr = linear_reg.predict(X_test)\n",
    "y_pred_gb = gb_reg.predict(X_test)\n",
    "y_pred_rf = rf_reg.predict(X_test)"
   ]
  },
  {
   "cell_type": "markdown",
   "id": "cda67237",
   "metadata": {},
   "source": [
    "**Evaluating the models:**"
   ]
  },
  {
   "cell_type": "code",
   "execution_count": 18,
   "id": "f324b076",
   "metadata": {},
   "outputs": [
    {
     "name": "stdout",
     "output_type": "stream",
     "text": [
      "              MODELS    SCORES\n",
      "0  Linear Regression  0.903205\n",
      "1  Gradient Boosting  0.984678\n",
      "2      Random Forest  0.980791\n"
     ]
    }
   ],
   "source": [
    "# determing the value of r2_score metric \n",
    "lr_score = metrics.r2_score(y_test, y_pred_lr)\n",
    "gb_score = metrics.r2_score(y_test, y_pred_gb)\n",
    "rf_score = metrics.r2_score(y_test, y_pred_rf)\n",
    "\n",
    "#creating a pandas dataframe to have better view of the results\n",
    "score_df = pd.DataFrame({\"MODELS\": [\"Linear Regression\", \"Gradient Boosting\", \"Random Forest\"],\n",
    "             \"SCORES\" : [ lr_score, gb_score, rf_score]})\n",
    "# Viewing the rscores\n",
    "print(score_df)"
   ]
  },
  {
   "cell_type": "markdown",
   "id": "04a29fe6",
   "metadata": {},
   "source": [
    "**Gradient Boosting Model out perfomred the other two. Thus, this model will be used for sales predictions**"
   ]
  },
  {
   "cell_type": "markdown",
   "id": "f665b031",
   "metadata": {},
   "source": [
    "**SAVING THE GB MODEL:**"
   ]
  },
  {
   "cell_type": "code",
   "execution_count": 19,
   "id": "3cf97bfa",
   "metadata": {},
   "outputs": [
    {
     "data": {
      "text/plain": [
       "['Sales_predictor']"
      ]
     },
     "execution_count": 19,
     "metadata": {},
     "output_type": "execute_result"
    }
   ],
   "source": [
    "# Traing the whole data\n",
    "gb_model = GradientBoostingRegressor()\n",
    "gb_model.fit(X,y)\n",
    "\n",
    "# Save the model \n",
    "import joblib\n",
    "joblib.dump(gb_model, \"Sales_predictor\")\n"
   ]
  }
 ],
 "metadata": {
  "kernelspec": {
   "display_name": "Python 3 (ipykernel)",
   "language": "python",
   "name": "python3"
  },
  "language_info": {
   "codemirror_mode": {
    "name": "ipython",
    "version": 3
   },
   "file_extension": ".py",
   "mimetype": "text/x-python",
   "name": "python",
   "nbconvert_exporter": "python",
   "pygments_lexer": "ipython3",
   "version": "3.10.9"
  }
 },
 "nbformat": 4,
 "nbformat_minor": 5
}
